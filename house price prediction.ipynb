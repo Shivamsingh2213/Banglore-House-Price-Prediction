{
 "cells": [
  {
   "cell_type": "code",
   "execution_count": 9,
   "id": "f86ad38d-5caf-4182-8858-c3ae0ca6c0c8",
   "metadata": {},
   "outputs": [],
   "source": [
    "import pandas as pd\n",
    "\n",
    "# Load the dataset\n",
    "file_path = 'Bengaluru_House_Data.csv'\n",
    "df = pd.read_csv(file_path)\n",
    "\n",
    "# Drop rows with missing values in 'location', 'size', 'bath', 'balcony'\n",
    "df = df.dropna(subset=['location', 'size', 'bath', 'balcony'])\n",
    "\n",
    "# Drop the 'society' column since it has many missing values\n",
    "df = df.drop(columns=['society'])\n",
    "\n",
    "# Convert 'total_sqft' to numeric\n",
    "def convert_sqft_to_num(x):\n",
    "    tokens = x.split('-')\n",
    "    if len(tokens) == 2:\n",
    "        return (float(tokens[0]) + float(tokens[1])) / 2\n",
    "    try:\n",
    "        return float(x)\n",
    "    except:\n",
    "        return None\n",
    "\n",
    "df['total_sqft'] = df['total_sqft'].apply(convert_sqft_to_num)\n",
    "df = df.dropna(subset=['total_sqft'])\n",
    "\n",
    "# Extract the number of bedrooms from the 'size' column\n",
    "df['bhk'] = df['size'].apply(lambda x: int(x.split(' ')[0]))\n",
    "\n",
    "# Drop the 'size' column as it's no longer needed\n",
    "df = df.drop(columns=['size'])\n",
    "\n",
    "# One-hot encode the 'location' column\n",
    "df = pd.get_dummies(df, columns=['location'], drop_first=True)\n",
    "\n",
    "# Save the cleaned dataset\n",
    "df.to_csv('Cleaned_Bengaluru_House_Data.csv', index=False)\n"
   ]
  },
  {
   "cell_type": "code",
   "execution_count": 2,
   "id": "15f25626-b1ea-4306-b5ab-6db4d5b8e93e",
   "metadata": {},
   "outputs": [
    {
     "name": "stdout",
     "output_type": "stream",
     "text": [
      "Mean Squared Error: 7993.526510975105\n",
      "Root Mean Squared Error: 89.4065238725626\n",
      "Mean Absolute Error: 29.628698268212567\n",
      "R-squared: 0.627906705995066\n"
     ]
    },
    {
     "name": "stderr",
     "output_type": "stream",
     "text": [
      "C:\\Users\\lande\\AppData\\Local\\Programs\\Python\\Python312\\Lib\\site-packages\\sklearn\\metrics\\_regression.py:492: FutureWarning: 'squared' is deprecated in version 1.4 and will be removed in 1.6. To calculate the root mean squared error, use the function'root_mean_squared_error'.\n",
      "  warnings.warn(\n"
     ]
    }
   ],
   "source": [
    "import pandas as pd\n",
    "from sklearn.model_selection import train_test_split\n",
    "from sklearn.ensemble import RandomForestRegressor\n",
    "from sklearn.metrics import mean_squared_error, mean_absolute_error, r2_score, \n",
    "import joblib\n",
    "import numpy as np\n",
    "\n",
    "# Load the cleaned dataset\n",
    "df = pd.read_csv('Cleaned_Bengaluru_House_Data.csv')\n",
    "\n",
    "# Select features and target variable\n",
    "X = df.drop(columns=['price', 'availability', 'area_type'])\n",
    "y = df['price']\n",
    "\n",
    "# Split the data into training and testing sets\n",
    "X_train, X_test, y_train, y_test = train_test_split(X, y, test_size=0.2, random_state=42)\n",
    "\n",
    "# Create and train the Random Forest model\n",
    "model = RandomForestRegressor(n_estimators=100, random_state=42)\n",
    "model.fit(X_train, y_train)\n",
    "\n",
    "# Make predictions on the test set\n",
    "y_pred = model.predict(X_test)\n",
    "\n",
    "# Calculate the metrics\n",
    "mse = mean_squared_error(y_test, y_pred)\n",
    "rmse = mean_squared_error(y_test, y_pred, squared=False)\n",
    "mae = mean_absolute_error(y_test, y_pred)\n",
    "r2 = r2_score(y_test, y_pred)\n",
    "\n",
    "\n",
    "# Print the metrics\n",
    "print(f\"Mean Squared Error: {mse}\")\n",
    "print(f\"Root Mean Squared Error: {rmse}\")\n",
    "print(f\"Mean Absolute Error: {mae}\")\n",
    "print(f\"R-squared: {r2}\")\n",
    "\n",
    "\n",
    "# Save the model and feature names\n",
    "joblib.dump(model, 'house_price_model.pkl')\n",
    "X.columns.to_series().to_csv('feature_names.csv', index=False)\n"
   ]
  },
  {
   "cell_type": "code",
   "execution_count": null,
   "id": "a6b4a60d-dcb2-47dc-a9d4-03cc54a07d9f",
   "metadata": {},
   "outputs": [],
   "source": []
  }
 ],
 "metadata": {
  "kernelspec": {
   "display_name": "Python 3 (ipykernel)",
   "language": "python",
   "name": "python3"
  },
  "language_info": {
   "codemirror_mode": {
    "name": "ipython",
    "version": 3
   },
   "file_extension": ".py",
   "mimetype": "text/x-python",
   "name": "python",
   "nbconvert_exporter": "python",
   "pygments_lexer": "ipython3",
   "version": "3.12.4"
  }
 },
 "nbformat": 4,
 "nbformat_minor": 5
}
